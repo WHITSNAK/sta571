{
 "cells": [
  {
   "cell_type": "code",
   "execution_count": 2,
   "metadata": {},
   "outputs": [],
   "source": [
    "import pandas as pd\n",
    "import numpy as np\n",
    "import scipy.optimize as opt"
   ]
  },
  {
   "cell_type": "markdown",
   "metadata": {},
   "source": [
    "### 10.5"
   ]
  },
  {
   "cell_type": "code",
   "execution_count": 25,
   "metadata": {},
   "outputs": [],
   "source": [
    "X = np.array([\n",
    "    [1, 1, 1, 1],\n",
    "    [1, 1, 0, 1],\n",
    "    [1, 0, 0, 0],\n",
    "])\n",
    "\n",
    "R = {\n",
    "    (0, 0, 0): 0.6,\n",
    "    (0, 0, 1): 0.4,\n",
    "    (0, 1, 0): 0.3,\n",
    "    (0, 1, 1): 0.7,\n",
    "    (1, 0, 0): 0.2,\n",
    "    (1, 0, 1): 0.8,\n",
    "    (1, 1, 0): 0.1,\n",
    "    (1, 1, 1): 0.9,\n",
    "}\n",
    "\n",
    "def r_density(r, v, g):\n",
    "    return R[(v, g, r)]\n",
    "\n",
    "def v_density(v):\n",
    "    if v == 0:\n",
    "        return 0\n",
    "    else:\n",
    "        return 1\n",
    "\n",
    "def g_density(g, theta):\n",
    "    if g == 0:\n",
    "        return theta[0]\n",
    "    else:\n",
    "        return 1 - theta[0]\n",
    "\n",
    "def s_density(s, g, theta):\n",
    "    if g == 0:\n",
    "        return theta[2] if s == 0 else 1 - theta[2]\n",
    "    else:\n",
    "        return theta[1] if s == 0 else 1 - theta[1]\n",
    "\n",
    "def joint_density(theta, x):\n",
    "    v, g, r, s = x\n",
    "    return v_density(v) * g_density(g, theta) * r_density(r, v, g) * s_density(s, g, theta)\n",
    "\n",
    "def neg_log_likelihood(theta, data):\n",
    "    sum = 0\n",
    "    for x in data:\n",
    "        l = joint_density(theta, x)\n",
    "        sum -= np.log(l)\n",
    "    return sum"
   ]
  },
  {
   "cell_type": "code",
   "execution_count": 29,
   "metadata": {},
   "outputs": [],
   "source": [
    "res = opt.minimize(\n",
    "    neg_log_likelihood,\n",
    "    x0 = np.array([0.1, 0.2, 0.5]),\n",
    "    args=(X,),\n",
    "    bounds=(\n",
    "        (1e-6, 1-1e-6),\n",
    "        (1e-6, 1-1e-6),\n",
    "        (1e-6, 1-1e-6),\n",
    "    )\n",
    ")"
   ]
  },
  {
   "cell_type": "code",
   "execution_count": 34,
   "metadata": {},
   "outputs": [
    {
     "data": {
      "text/plain": [
       "array([0.333, 0.   , 1.   ])"
      ]
     },
     "execution_count": 34,
     "metadata": {},
     "output_type": "execute_result"
    }
   ],
   "source": [
    "np.round(res.x, 3)"
   ]
  },
  {
   "cell_type": "markdown",
   "metadata": {},
   "source": [
    "### 10.6"
   ]
  },
  {
   "cell_type": "code",
   "execution_count": 45,
   "metadata": {},
   "outputs": [],
   "source": [
    "x1 = np.array([1/2, 0, 0, 1/2])\n",
    "x2GivenX1 = np.array([\n",
    "    0.9, 0.1,\n",
    "    0.3, 0.7,\n",
    "    0.4, 0.6,\n",
    "    0.8, 0.2\n",
    "]).reshape(-1, 2)\n",
    "x4GivenX2 = np.array([\n",
    "    0.4, 0.6,\n",
    "    0.95, 0.05\n",
    "]).reshape(-1, 2)\n",
    "x3GivenX2 = np.array([\n",
    "    1/3, 1/3, 1/3,\n",
    "    0.8, 0.1, 0.1\n",
    "]).reshape(-1, 3)"
   ]
  },
  {
   "cell_type": "code",
   "execution_count": 39,
   "metadata": {},
   "outputs": [
    {
     "data": {
      "text/plain": [
       "0.51"
      ]
     },
     "execution_count": 39,
     "metadata": {},
     "output_type": "execute_result"
    }
   ],
   "source": [
    "x1 @ x2GivenX1[:,0] * x4GivenX2[0, 1]"
   ]
  },
  {
   "cell_type": "code",
   "execution_count": 43,
   "metadata": {},
   "outputs": [
    {
     "data": {
      "text/plain": [
       "0.0075000000000000015"
      ]
     },
     "execution_count": 43,
     "metadata": {},
     "output_type": "execute_result"
    }
   ],
   "source": [
    "x1 @ x2GivenX1[:,1] * x4GivenX2[1, 1]"
   ]
  },
  {
   "cell_type": "code",
   "execution_count": 46,
   "metadata": {},
   "outputs": [],
   "source": [
    "x1 = np.array([1/4, 1/4, 1/4, 1/4])"
   ]
  },
  {
   "cell_type": "code",
   "execution_count": 50,
   "metadata": {},
   "outputs": [
    {
     "data": {
      "text/plain": [
       "0.12"
      ]
     },
     "execution_count": 50,
     "metadata": {},
     "output_type": "execute_result"
    }
   ],
   "source": [
    "x1 @ x2GivenX1[:,0] * x3GivenX2[0, 1] * x4GivenX2[0, 1]"
   ]
  },
  {
   "cell_type": "code",
   "execution_count": 51,
   "metadata": {},
   "outputs": [
    {
     "data": {
      "text/plain": [
       "0.002"
      ]
     },
     "execution_count": 51,
     "metadata": {},
     "output_type": "execute_result"
    }
   ],
   "source": [
    "x1 @ x2GivenX1[:,1] * x3GivenX2[1, 1] * x4GivenX2[1, 1]"
   ]
  },
  {
   "cell_type": "code",
   "execution_count": 93,
   "metadata": {},
   "outputs": [],
   "source": [
    "from itertools import product\n",
    "\n",
    "lightness = 1\n",
    "thickness = 1\n",
    "joint = []\n",
    "for (season, fish) in product(range(4), range(2)):\n",
    "    l = x1[season] * x2GivenX1[season, fish] * x3GivenX2[fish, lightness] * x4GivenX2[fish, thickness]\n",
    "    joint.append(l)\n",
    "\n",
    "joint = np.array(joint).reshape(4, 2)"
   ]
  },
  {
   "cell_type": "code",
   "execution_count": 100,
   "metadata": {},
   "outputs": [
    {
     "data": {
      "text/plain": [
       "array([0.36987705, 0.13012295, 0.17008197, 0.32991803])"
      ]
     },
     "execution_count": 100,
     "metadata": {},
     "output_type": "execute_result"
    }
   ],
   "source": [
    "joint.sum(1) / joint.sum(1).sum()"
   ]
  }
 ],
 "metadata": {
  "kernelspec": {
   "display_name": "Python 3.8.10 ('base')",
   "language": "python",
   "name": "python3"
  },
  "language_info": {
   "codemirror_mode": {
    "name": "ipython",
    "version": 3
   },
   "file_extension": ".py",
   "mimetype": "text/x-python",
   "name": "python",
   "nbconvert_exporter": "python",
   "pygments_lexer": "ipython3",
   "version": "3.8.10"
  },
  "orig_nbformat": 4,
  "vscode": {
   "interpreter": {
    "hash": "8aa86febbd8b68d3c6a1a0d2cefbe9270b8ac80e62773c8b87751ee948ce61ed"
   }
  }
 },
 "nbformat": 4,
 "nbformat_minor": 2
}
