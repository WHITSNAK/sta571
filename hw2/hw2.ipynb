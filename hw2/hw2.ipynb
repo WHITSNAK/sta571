{
 "cells": [
  {
   "cell_type": "code",
   "execution_count": 1,
   "metadata": {},
   "outputs": [],
   "source": [
    "import pandas as pd\n",
    "import numpy as np\n",
    "import scipy.optimize as opt"
   ]
  },
  {
   "cell_type": "markdown",
   "metadata": {},
   "source": [
    "### 10.5"
   ]
  },
  {
   "cell_type": "code",
   "execution_count": 25,
   "metadata": {},
   "outputs": [],
   "source": [
    "X = np.array([\n",
    "    [1, 1, 1, 1],\n",
    "    [1, 1, 0, 1],\n",
    "    [1, 0, 0, 0],\n",
    "])\n",
    "\n",
    "R = {\n",
    "    (0, 0, 0): 0.6,\n",
    "    (0, 0, 1): 0.4,\n",
    "    (0, 1, 0): 0.3,\n",
    "    (0, 1, 1): 0.7,\n",
    "    (1, 0, 0): 0.2,\n",
    "    (1, 0, 1): 0.8,\n",
    "    (1, 1, 0): 0.1,\n",
    "    (1, 1, 1): 0.9,\n",
    "}\n",
    "\n",
    "def r_density(r, v, g):\n",
    "    return R[(v, g, r)]\n",
    "\n",
    "def v_density(v):\n",
    "    if v == 0:\n",
    "        return 0\n",
    "    else:\n",
    "        return 1\n",
    "\n",
    "def g_density(g, theta):\n",
    "    if g == 0:\n",
    "        return theta[0]\n",
    "    else:\n",
    "        return 1 - theta[0]\n",
    "\n",
    "def s_density(s, g, theta):\n",
    "    if g == 0:\n",
    "        return theta[2] if s == 0 else 1 - theta[2]\n",
    "    else:\n",
    "        return theta[1] if s == 0 else 1 - theta[1]\n",
    "\n",
    "def joint_density(theta, x):\n",
    "    v, g, r, s = x\n",
    "    return v_density(v) * g_density(g, theta) * r_density(r, v, g) * s_density(s, g, theta)\n",
    "\n",
    "def neg_log_likelihood(theta, data):\n",
    "    sum = 0\n",
    "    for x in data:\n",
    "        l = joint_density(theta, x)\n",
    "        sum -= np.log(l)\n",
    "    return sum"
   ]
  },
  {
   "cell_type": "code",
   "execution_count": 29,
   "metadata": {},
   "outputs": [],
   "source": [
    "res = opt.minimize(\n",
    "    neg_log_likelihood,\n",
    "    x0 = np.array([0.1, 0.2, 0.5]),\n",
    "    args=(X,),\n",
    "    bounds=(\n",
    "        (1e-6, 1-1e-6),\n",
    "        (1e-6, 1-1e-6),\n",
    "        (1e-6, 1-1e-6),\n",
    "    )\n",
    ")"
   ]
  },
  {
   "cell_type": "code",
   "execution_count": 34,
   "metadata": {},
   "outputs": [
    {
     "data": {
      "text/plain": [
       "array([0.333, 0.   , 1.   ])"
      ]
     },
     "execution_count": 34,
     "metadata": {},
     "output_type": "execute_result"
    }
   ],
   "source": [
    "np.round(res.x, 3)"
   ]
  }
 ],
 "metadata": {
  "kernelspec": {
   "display_name": "Python 3.8.10 ('base')",
   "language": "python",
   "name": "python3"
  },
  "language_info": {
   "codemirror_mode": {
    "name": "ipython",
    "version": 3
   },
   "file_extension": ".py",
   "mimetype": "text/x-python",
   "name": "python",
   "nbconvert_exporter": "python",
   "pygments_lexer": "ipython3",
   "version": "3.8.10"
  },
  "orig_nbformat": 4,
  "vscode": {
   "interpreter": {
    "hash": "8aa86febbd8b68d3c6a1a0d2cefbe9270b8ac80e62773c8b87751ee948ce61ed"
   }
  }
 },
 "nbformat": 4,
 "nbformat_minor": 2
}
